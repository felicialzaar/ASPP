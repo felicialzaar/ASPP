{
 "cells": [
  {
   "cell_type": "code",
   "execution_count": 16,
   "id": "amateur-chemistry",
   "metadata": {},
   "outputs": [],
   "source": [
    "import numpy as np\n",
    "\n",
    "def X(N): return np.random.randint(100, size=(N, N))\n",
    "\n",
    "def Y(N): return np.random.randint(100, size=(N, N + 1))\n",
    "\n",
    "def multiply(X, Y): return np.matmul(A, B)\n",
    "\n",
    "def print_results(result): print(result)\n",
    "    \n",
    "N = 250\n",
    "print(multiply(X(N), Y(N)))"
   ]
  }
 ],
 "metadata": {
  "kernelspec": {
   "display_name": "Python 3",
   "language": "python",
   "name": "python3"
  },
  "language_info": {
   "codemirror_mode": {
    "name": "ipython",
    "version": 3
   },
   "file_extension": ".py",
   "mimetype": "text/x-python",
   "name": "python",
   "nbconvert_exporter": "python",
   "pygments_lexer": "ipython3",
   "version": "3.8.0"
  }
 },
 "nbformat": 4,
 "nbformat_minor": 5
}
