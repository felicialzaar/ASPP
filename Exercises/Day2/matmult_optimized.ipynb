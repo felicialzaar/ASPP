{
 "cells": [
  {
   "cell_type": "code",
   "execution_count": 28,
   "id": "different-sucking",
   "metadata": {},
   "outputs": [],
   "source": [
    "import numpy as np\n",
    "\n",
    "def X(N): return np.random.randint(100, size=(N, N))\n",
    "\n",
    "def Y(N): return np.random.randint(100, size=(N, N + 1))\n",
    "\n",
    "def multiply(X, Y): return np.matmul(X, Y)\n",
    "\n",
    "def print_results(result): print(result)"
   ]
  },
  {
   "cell_type": "code",
   "execution_count": 40,
   "id": "further-vegetation",
   "metadata": {},
   "outputs": [
    {
     "name": "stdout",
     "output_type": "stream",
     "text": [
      "The line_profiler extension is already loaded. To reload it, use:\n",
      "  %reload_ext line_profiler\n",
      "The memory_profiler extension is already loaded. To reload it, use:\n",
      "  %reload_ext memory_profiler\n"
     ]
    }
   ],
   "source": [
    "%load_ext line_profiler"
   ]
  },
  {
   "cell_type": "code",
   "execution_count": 41,
   "id": "civic-architect",
   "metadata": {},
   "outputs": [
    {
     "name": "stdout",
     "output_type": "stream",
     "text": [
      "[[658759 613582 622393 ... 611274 645502 597822]\n",
      " [654954 603599 613277 ... 601799 617460 587756]\n",
      " [653077 615611 607415 ... 588477 659029 609263]\n",
      " ...\n",
      " [690413 671717 674948 ... 658439 683715 662760]\n",
      " [631920 601382 643435 ... 584330 642169 609678]\n",
      " [630836 575490 601081 ... 589309 611697 571958]]\n",
      "ERROR: Could not find file <ipython-input-28-8b84b085e88c>\n",
      "NOTE: %mprun can only be used on functions defined in physical files, and not in the IPython environment.\n",
      "[[606909 632656 581928 ... 599872 582606 608506]\n",
      " [587764 595356 567982 ... 589743 572498 569426]\n",
      " [604112 608418 625780 ... 625105 604461 608976]\n",
      " ...\n",
      " [583352 580593 568724 ... 592265 553462 592936]\n",
      " [602085 595453 578372 ... 602763 571789 593392]\n",
      " [601995 629014 584044 ... 580105 584411 584540]]\n",
      "\n"
     ]
    }
   ],
   "source": [
    "N = 250\n",
    "%lprun -f X print_results(multiply(X(N), Y(N)))\n",
    "%mprun -f X print_results(multiply(X(N), Y(N)))"
   ]
  },
  {
   "cell_type": "code",
   "execution_count": 35,
   "id": "duplicate-receiver",
   "metadata": {},
   "outputs": [
    {
     "name": "stdout",
     "output_type": "stream",
     "text": [
      "[[629034 648829 624932 ... 639637 648809 695337]\n",
      " [599772 596351 564542 ... 608213 605848 676087]\n",
      " [605327 631172 632952 ... 640816 647501 670121]\n",
      " ...\n",
      " [604423 611266 591560 ... 623792 604599 633987]\n",
      " [587739 598630 550434 ... 590183 575219 658695]\n",
      " [603339 594096 621800 ... 667674 638883 688038]]\n"
     ]
    }
   ],
   "source": [
    "%lprun -f Y print_results(multiply(X(N), Y(N)))"
   ]
  },
  {
   "cell_type": "code",
   "execution_count": 37,
   "id": "affected-impact",
   "metadata": {},
   "outputs": [
    {
     "name": "stdout",
     "output_type": "stream",
     "text": [
      "[[588130 598846 593980 ... 658089 572782 625383]\n",
      " [546763 591868 569842 ... 644761 583233 596390]\n",
      " [581439 626915 573644 ... 616981 546605 603053]\n",
      " ...\n",
      " [560730 602485 558351 ... 618167 582033 597801]\n",
      " [622606 635078 643149 ... 690357 643132 666433]\n",
      " [630524 618156 606441 ... 677123 622383 671532]]\n"
     ]
    }
   ],
   "source": [
    "%lprun -f multiply print_results(multiply(X(N), Y(N)))"
   ]
  },
  {
   "cell_type": "code",
   "execution_count": 38,
   "id": "romance-flexibility",
   "metadata": {},
   "outputs": [
    {
     "name": "stdout",
     "output_type": "stream",
     "text": [
      "[[637928 609756 657742 ... 654533 692823 635938]\n",
      " [608251 601209 643048 ... 643019 681236 610939]\n",
      " [633324 642548 649083 ... 669721 701633 668265]\n",
      " ...\n",
      " [626617 627737 668073 ... 651477 692180 651189]\n",
      " [647125 651888 674523 ... 660464 685172 666104]\n",
      " [599564 574077 620005 ... 609241 643805 618997]]\n"
     ]
    }
   ],
   "source": [
    "%lprun -f print_results print_results(multiply(X(N), Y(N)))"
   ]
  }
 ],
 "metadata": {
  "kernelspec": {
   "display_name": "Python 3",
   "language": "python",
   "name": "python3"
  },
  "language_info": {
   "codemirror_mode": {
    "name": "ipython",
    "version": 3
   },
   "file_extension": ".py",
   "mimetype": "text/x-python",
   "name": "python",
   "nbconvert_exporter": "python",
   "pygments_lexer": "ipython3",
   "version": "3.8.0"
  }
 },
 "nbformat": 4,
 "nbformat_minor": 5
}
