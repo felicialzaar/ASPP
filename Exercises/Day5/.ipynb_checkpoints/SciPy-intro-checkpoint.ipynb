{
 "cells": [
  {
   "cell_type": "code",
   "execution_count": 15,
   "id": "agricultural-colonial",
   "metadata": {},
   "outputs": [],
   "source": [
    "import numpy as np\n",
    "from scipy import linalg as lg\n",
    "import matplotlib.pyplot as plt"
   ]
  },
  {
   "cell_type": "code",
   "execution_count": 2,
   "id": "electric-popularity",
   "metadata": {},
   "outputs": [
    {
     "name": "stdout",
     "output_type": "stream",
     "text": [
      "[[1 2 1]\n",
      " [5 7 3]\n",
      " [4 1 1]]\n"
     ]
    }
   ],
   "source": [
    "# 1.a\n",
    "A = np.array([[1, 2, 1], [5, 7, 3], [4, 1, 1]])\n",
    "print(A)"
   ]
  },
  {
   "cell_type": "code",
   "execution_count": 3,
   "id": "higher-fishing",
   "metadata": {},
   "outputs": [
    {
     "name": "stdout",
     "output_type": "stream",
     "text": [
      "[[2]\n",
      " [1]\n",
      " [1]]\n"
     ]
    }
   ],
   "source": [
    "# 1.b\n",
    "b = np.array([[2], [1], [1]])\n",
    "print(b)"
   ]
  },
  {
   "cell_type": "code",
   "execution_count": 4,
   "id": "excessive-champagne",
   "metadata": {},
   "outputs": [
    {
     "name": "stdout",
     "output_type": "stream",
     "text": [
      "[[-1.2]\n",
      " [-2.6]\n",
      " [ 8.4]]\n"
     ]
    }
   ],
   "source": [
    "# 1.c\n",
    "c = lg.solve(A, b)\n",
    "print(c)"
   ]
  },
  {
   "cell_type": "code",
   "execution_count": 5,
   "id": "touched-franchise",
   "metadata": {},
   "outputs": [
    {
     "name": "stdout",
     "output_type": "stream",
     "text": [
      "[[ 0.]\n",
      " [ 0.]\n",
      " [-0.]]\n"
     ]
    }
   ],
   "source": [
    "# 1.d\n",
    "print(np.round(A.dot(c) - b, 13))"
   ]
  },
  {
   "cell_type": "code",
   "execution_count": 6,
   "id": "cardiovascular-mortgage",
   "metadata": {},
   "outputs": [
    {
     "name": "stdout",
     "output_type": "stream",
     "text": [
      "[[-2.4 -1.  -0.6]\n",
      " [-3.2 -7.  -1.8]\n",
      " [13.8 18.   7.2]]\n",
      "[[ 0.  0. -0.]\n",
      " [-0.  0. -0.]\n",
      " [-0. -0. -0.]]\n"
     ]
    }
   ],
   "source": [
    "# 1.e\n",
    "E = np.random.randint(9, size=(3, 3))\n",
    "x = lg.solve(A, E)\n",
    "print(x)\n",
    "print(np.round(A.dot(x) - E, 13))"
   ]
  },
  {
   "cell_type": "code",
   "execution_count": 7,
   "id": "marked-fifty",
   "metadata": {},
   "outputs": [
    {
     "name": "stdout",
     "output_type": "stream",
     "text": [
      "[-3.90102418  2.17477836 10.72624582]\n",
      "[[ 0.76805205  0.3582565  -0.5307997 ]\n",
      " [-0.30040333 -0.53045676 -0.79270011]\n",
      " [-0.56555626  0.76828895 -0.29979696]]\n"
     ]
    }
   ],
   "source": [
    "# 1.f\n",
    "eigenvalues, eigenvectors = lg.eigh(A)\n",
    "print(eigenvalues)\n",
    "print(eigenvectors)"
   ]
  },
  {
   "cell_type": "code",
   "execution_count": 8,
   "id": "arctic-beginning",
   "metadata": {},
   "outputs": [
    {
     "name": "stdout",
     "output_type": "stream",
     "text": [
      "[[-0.8  0.2  0.2]\n",
      " [-1.4  0.6 -0.4]\n",
      " [ 4.6 -1.4  0.6]]\n",
      "-5.0\n"
     ]
    }
   ],
   "source": [
    "# 1.g\n",
    "inv_A = lg.inv(A)\n",
    "print(inv_A)\n",
    "det_A = lg.det(A)\n",
    "print(det_A)"
   ]
  },
  {
   "cell_type": "code",
   "execution_count": 9,
   "id": "congressional-metadata",
   "metadata": {},
   "outputs": [
    {
     "name": "stdout",
     "output_type": "stream",
     "text": [
      "10.344080432788601\n",
      "15.0\n",
      "0.19418881135883406\n"
     ]
    }
   ],
   "source": [
    "# 1.h\n",
    "norm_A_1 = lg.norm(A)\n",
    "norm_A_2 = lg.norm(A, np.inf)\n",
    "norm_A_3 = lg.norm(A, -2)\n",
    "print(norm_A_1)\n",
    "print(norm_A_2)\n",
    "print(norm_A_3)"
   ]
  },
  {
   "cell_type": "code",
   "execution_count": 21,
   "id": "subject-revision",
   "metadata": {},
   "outputs": [],
   "source": [
    "from scipy.stats import poisson\n",
    "from scipy.stats import norm"
   ]
  },
  {
   "cell_type": "code",
   "execution_count": 19,
   "id": "communist-teddy",
   "metadata": {},
   "outputs": [
    {
     "data": {
      "image/png": "[encoded data removed]",
      "text/plain": [
       "<Figure size 432x288 with 1 Axes>"
      ]
     },
     "metadata": {
      "needs_background": "light"
     },
     "output_type": "display_data"
    },
    {
     "data": {
      "image/png": "[encoded data removed]",
      "text/plain": [
       "<Figure size 432x288 with 1 Axes>"
      ]
     },
     "metadata": {
      "needs_background": "light"
     },
     "output_type": "display_data"
    },
    {
     "data": {
      "image/png": "[encoded data removed]",
      "text/plain": [
       "<Figure size 432x288 with 1 Axes>"
      ]
     },
     "metadata": {
      "needs_background": "light"
     },
     "output_type": "display_data"
    }
   ],
   "source": [
    "# 1.i\n",
    "mu = 4\n",
    "k = np.arange(0, 20, 1)\n",
    "pmf_pois = poisson.pmf(k, mu)\n",
    "cdf_pois = poisson.cdf(k, mu)\n",
    "rvs_pois  = poisson.rvs(mu, size=1000)\n",
    "\n",
    "fig1, ax1 = plt.subplots(1, 1)\n",
    "fig2, ax2 = plt.subplots(1, 1)\n",
    "fig3, ax3 = plt.subplots(1, 1)\n",
    "ax1.plot(k, pmf_pois, ms=8, label='poisson pmf')\n",
    "ax2.plot(k, cdf_pois, ms=8, label='poisson cdf')\n",
    "ax3.hist(rvs_pois, 10)\n",
    "plt.show()"
   ]
  },
  {
   "cell_type": "code",
   "execution_count": 27,
   "id": "prerequisite-wireless",
   "metadata": {},
   "outputs": [
    {
     "data": {
      "image/png": "[encoded data removed]",
      "text/plain": [
       "<Figure size 432x288 with 1 Axes>"
      ]
     },
     "metadata": {
      "needs_background": "light"
     },
     "output_type": "display_data"
    },
    {
     "data": {
      "image/png": "[encoded data removed]",
      "text/plain": [
       "<Figure size 432x288 with 1 Axes>"
      ]
     },
     "metadata": {
      "needs_background": "light"
     },
     "output_type": "display_data"
    },
    {
     "data": {
      "image/png": "[encoded data removed]",
      "text/plain": [
       "<Figure size 432x288 with 1 Axes>"
      ]
     },
     "metadata": {
      "needs_background": "light"
     },
     "output_type": "display_data"
    }
   ],
   "source": [
    "# 1.j\n",
    "x = np.arange(-20, 20, 0.01)\n",
    "pdf_norm = norm.pdf(x)\n",
    "cdf_norm = norm.cdf(x)\n",
    "rvs_norm  = norm.rvs(size=1000)\n",
    "\n",
    "fig1, ax1 = plt.subplots(1, 1)\n",
    "fig2, ax2 = plt.subplots(1, 1)\n",
    "fig3, ax3 = plt.subplots(1, 1)\n",
    "ax1.plot(x, pdf_norm, ms=8, label='poisson pmf')\n",
    "ax2.plot(x, cdf_norm, ms=8, label='poisson cdf')\n",
    "ax3.hist(rvs_norm, 10)\n",
    "plt.show()"
   ]
  },
  {
   "cell_type": "code",
   "execution_count": 42,
   "id": "thrown-output",
   "metadata": {},
   "outputs": [
    {
     "data": {
      "text/plain": [
       "Ttest_indResult(statistic=-0.00567258915334003, pvalue=0.995474708269599)"
      ]
     },
     "execution_count": 42,
     "metadata": {},
     "output_type": "execute_result"
    }
   ],
   "source": [
    "# 1.k\n",
    "from scipy.stats import ttest_ind\n",
    "\n",
    "rvs_norm2 = norm.rvs(size=500)\n",
    "ttest_ind(rvs_norm, rvs_norm2)"
   ]
  },
  {
   "cell_type": "code",
   "execution_count": 41,
   "id": "union-archive",
   "metadata": {},
   "outputs": [
    {
     "data": {
      "text/plain": [
       "Ttest_indResult(statistic=40.539634776383444, pvalue=3.7226039354069426e-213)"
      ]
     },
     "execution_count": 41,
     "metadata": {},
     "output_type": "execute_result"
    }
   ],
   "source": [
    "# 1.k\n",
    "rvs_pois2 = poisson.rvs(mu, size=500)\n",
    "ttest_ind(rvs_pois2, rvs_norm2)"
   ]
  }
 ],
 "metadata": {
  "kernelspec": {
   "display_name": "Python 3",
   "language": "python",
   "name": "python3"
  },
  "language_info": {
   "codemirror_mode": {
    "name": "ipython",
    "version": 3
   },
   "file_extension": ".py",
   "mimetype": "text/x-python",
   "name": "python",
   "nbconvert_exporter": "python",
   "pygments_lexer": "ipython3",
   "version": "3.8.5"
  }
 },
 "nbformat": 4,
 "nbformat_minor": 5
}
